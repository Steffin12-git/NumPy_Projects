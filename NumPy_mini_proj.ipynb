{
 "cells": [
  {
   "cell_type": "code",
   "execution_count": 1,
   "id": "3567840e-275c-4e45-bc96-11ddd066b020",
   "metadata": {},
   "outputs": [],
   "source": [
    "import numpy as np\n",
    "import pandas as pd"
   ]
  },
  {
   "cell_type": "code",
   "execution_count": 30,
   "id": "1066e224-4ec2-47d1-9f54-ff3fd62e136a",
   "metadata": {},
   "outputs": [],
   "source": [
    "#  Step 1: Setup\n",
    "np.random.seed(42)  # for reproducibility\n",
    "N = 10000 # number of people"
   ]
  },
  {
   "cell_type": "code",
   "execution_count": 31,
   "id": "c87d5165-3fcb-4c98-be42-dad87a474f59",
   "metadata": {},
   "outputs": [],
   "source": [
    "# Step 2: Generate Demographic Info\n",
    "# Age (range: 18–70)\n",
    "ages = np.random.randint(18,70, size=N)"
   ]
  },
  {
   "cell_type": "code",
   "execution_count": 43,
   "id": "10345a29-a995-42cc-bdb7-9f9567fd2f49",
   "metadata": {},
   "outputs": [],
   "source": [
    "# Gender (0: Male, 1: Female)\n",
    "genders = np.random.choice([0,1], size=N).astype(int)"
   ]
  },
  {
   "cell_type": "code",
   "execution_count": 34,
   "id": "76fb0b26-2252-4cec-87fe-42c925d2801f",
   "metadata": {
    "scrolled": true
   },
   "outputs": [],
   "source": [
    "# Height (cm) and Weight (kg)\n",
    "heights = np.where(genders == 0, \n",
    "                          np.random.normal(175, 10, N),  # male\n",
    "                          np.random.normal(162, 8, N))   # female\n",
    "weights = np.random.normal(70, 15, N) + (ages - 30) * 0.2 #slight age influence"
   ]
  },
  {
   "cell_type": "code",
   "execution_count": 45,
   "id": "bb53d927-d0df-439a-92bc-e5bb95e1beff",
   "metadata": {},
   "outputs": [],
   "source": [
    "#  Step 3: Fitness Activity Simulation\n",
    "# Step Count (daily)\n",
    "steps = np.random.normal(6000, 2500, N)\n",
    "steps = np.clip(steps, 1000, 20000)"
   ]
  },
  {
   "cell_type": "code",
   "execution_count": 36,
   "id": "b2b9122e-a4d3-44ea-b149-9a2159cf322f",
   "metadata": {},
   "outputs": [],
   "source": [
    "# Heart Rate (average resting)\n",
    "heart_rates = np.random.normal(70, 10, N)"
   ]
  },
  {
   "cell_type": "code",
   "execution_count": 37,
   "id": "4691f492-84bf-48fb-abc5-ea720a4e662e",
   "metadata": {},
   "outputs": [],
   "source": [
    "# Sleep Hours\n",
    "sleep_hours = np.random.normal(7.0, 1.2, N)\n",
    "sleep_hours = np.clip(sleep_hours, 3.5, 10)"
   ]
  },
  {
   "cell_type": "code",
   "execution_count": 38,
   "id": "f2e62a39-3d58-4502-b858-f54ac5a27ccb",
   "metadata": {},
   "outputs": [],
   "source": [
    "# Calories Burned\n",
    "calories = (steps * 0.04 + weights * 10) + np.random.normal(0, 50, N)"
   ]
  },
  {
   "cell_type": "code",
   "execution_count": 39,
   "id": "21a5638f-87f9-488d-a263-12cb206b65af",
   "metadata": {},
   "outputs": [],
   "source": [
    "# Active Minutes\n",
    "active_minutes = steps // 100"
   ]
  },
  {
   "cell_type": "code",
   "execution_count": 40,
   "id": "0a7037dd-0f4f-4e78-8401-86e1d41978f2",
   "metadata": {},
   "outputs": [],
   "source": [
    "# Step 4: Derived Metrics\n",
    "heights_m = heights / 100\n",
    "bmi = weights / (heights_m ** 2)"
   ]
  },
  {
   "cell_type": "code",
   "execution_count": 41,
   "id": "0e6a05fe-dca2-4d1b-a909-048954820590",
   "metadata": {},
   "outputs": [],
   "source": [
    "# Health Score (0–100) \n",
    "health_score = (\n",
    "    0.2 * (20000 - steps) / 20000 + \n",
    "    0.2 * (80 - heart_rates) / 80 +\n",
    "    0.2 * (bmi < 25) +\n",
    "    0.2 * (sleep_hours / 8) +\n",
    "    0.2 * (active_minutes / 180)\n",
    ") * 100\n",
    "\n",
    "health_score = np.clip(health_score, 0, 100)"
   ]
  },
  {
   "cell_type": "code",
   "execution_count": 49,
   "id": "e16967e7-4f5c-43a3-804f-117f7fbce934",
   "metadata": {},
   "outputs": [
    {
     "data": {
      "text/html": [
       "<div>\n",
       "<style scoped>\n",
       "    .dataframe tbody tr th:only-of-type {\n",
       "        vertical-align: middle;\n",
       "    }\n",
       "\n",
       "    .dataframe tbody tr th {\n",
       "        vertical-align: top;\n",
       "    }\n",
       "\n",
       "    .dataframe thead th {\n",
       "        text-align: right;\n",
       "    }\n",
       "</style>\n",
       "<table border=\"1\" class=\"dataframe\">\n",
       "  <thead>\n",
       "    <tr style=\"text-align: right;\">\n",
       "      <th></th>\n",
       "      <th>Age</th>\n",
       "      <th>Gender</th>\n",
       "      <th>Height_cm</th>\n",
       "      <th>Weight_kg</th>\n",
       "      <th>Steps</th>\n",
       "      <th>Heart_Rate</th>\n",
       "      <th>Sleep_Hours</th>\n",
       "      <th>Calories</th>\n",
       "      <th>Active_Minutes</th>\n",
       "      <th>BMI</th>\n",
       "      <th>Health_Score</th>\n",
       "    </tr>\n",
       "  </thead>\n",
       "  <tbody>\n",
       "    <tr>\n",
       "      <th>0</th>\n",
       "      <td>56.0</td>\n",
       "      <td>1.0</td>\n",
       "      <td>196.013814</td>\n",
       "      <td>76.002266</td>\n",
       "      <td>7062.499199</td>\n",
       "      <td>85.595249</td>\n",
       "      <td>4.446535</td>\n",
       "      <td>935.923233</td>\n",
       "      <td>61.0</td>\n",
       "      <td>19.781225</td>\n",
       "      <td>50.387302</td>\n",
       "    </tr>\n",
       "    <tr>\n",
       "      <th>1</th>\n",
       "      <td>69.0</td>\n",
       "      <td>1.0</td>\n",
       "      <td>175.818680</td>\n",
       "      <td>96.792774</td>\n",
       "      <td>9221.254024</td>\n",
       "      <td>69.275464</td>\n",
       "      <td>6.258289</td>\n",
       "      <td>1147.629752</td>\n",
       "      <td>58.0</td>\n",
       "      <td>31.312151</td>\n",
       "      <td>38.879301</td>\n",
       "    </tr>\n",
       "    <tr>\n",
       "      <th>2</th>\n",
       "      <td>46.0</td>\n",
       "      <td>0.0</td>\n",
       "      <td>173.883637</td>\n",
       "      <td>97.608985</td>\n",
       "      <td>2424.262592</td>\n",
       "      <td>72.512275</td>\n",
       "      <td>6.860222</td>\n",
       "      <td>1144.561121</td>\n",
       "      <td>54.0</td>\n",
       "      <td>32.282887</td>\n",
       "      <td>39.585486</td>\n",
       "    </tr>\n",
       "    <tr>\n",
       "      <th>3</th>\n",
       "      <td>32.0</td>\n",
       "      <td>0.0</td>\n",
       "      <td>165.155158</td>\n",
       "      <td>53.138194</td>\n",
       "      <td>1017.563036</td>\n",
       "      <td>63.381628</td>\n",
       "      <td>8.238530</td>\n",
       "      <td>805.349280</td>\n",
       "      <td>85.0</td>\n",
       "      <td>19.481505</td>\n",
       "      <td>65.675362</td>\n",
       "    </tr>\n",
       "    <tr>\n",
       "      <th>4</th>\n",
       "      <td>60.0</td>\n",
       "      <td>1.0</td>\n",
       "      <td>166.564755</td>\n",
       "      <td>41.873540</td>\n",
       "      <td>5389.546782</td>\n",
       "      <td>69.042717</td>\n",
       "      <td>6.929648</td>\n",
       "      <td>718.223858</td>\n",
       "      <td>66.0</td>\n",
       "      <td>15.092927</td>\n",
       "      <td>60.783774</td>\n",
       "    </tr>\n",
       "  </tbody>\n",
       "</table>\n",
       "</div>"
      ],
      "text/plain": [
       "    Age  Gender   Height_cm  Weight_kg        Steps  Heart_Rate  Sleep_Hours  \\\n",
       "0  56.0     1.0  196.013814  76.002266  7062.499199   85.595249     4.446535   \n",
       "1  69.0     1.0  175.818680  96.792774  9221.254024   69.275464     6.258289   \n",
       "2  46.0     0.0  173.883637  97.608985  2424.262592   72.512275     6.860222   \n",
       "3  32.0     0.0  165.155158  53.138194  1017.563036   63.381628     8.238530   \n",
       "4  60.0     1.0  166.564755  41.873540  5389.546782   69.042717     6.929648   \n",
       "\n",
       "      Calories  Active_Minutes        BMI  Health_Score  \n",
       "0   935.923233            61.0  19.781225     50.387302  \n",
       "1  1147.629752            58.0  31.312151     38.879301  \n",
       "2  1144.561121            54.0  32.282887     39.585486  \n",
       "3   805.349280            85.0  19.481505     65.675362  \n",
       "4   718.223858            66.0  15.092927     60.783774  "
      ]
     },
     "execution_count": 49,
     "metadata": {},
     "output_type": "execute_result"
    }
   ],
   "source": [
    "# Step 5: Compile the Data\n",
    "data = np.column_stack((ages, genders, heights, weights, steps, heart_rates,\n",
    "                        sleep_hours, calories, active_minutes, bmi, health_score))\n",
    "columns = ['Age', 'Gender', 'Height_cm', 'Weight_kg', 'Steps', 'Heart_Rate',\n",
    "           'Sleep_Hours', 'Calories', 'Active_Minutes', 'BMI', 'Health_Score']\n",
    "df = pd.DataFrame(data, columns=columns)\n",
    "df.head()"
   ]
  },
  {
   "cell_type": "code",
   "execution_count": null,
   "id": "d1c05b72-b6cd-4040-be82-e4f03c49cf43",
   "metadata": {},
   "outputs": [],
   "source": [
    "df.to_csv(r\"\")"
   ]
  }
 ],
 "metadata": {
  "kernelspec": {
   "display_name": "Python 3 (ipykernel)",
   "language": "python",
   "name": "python3"
  },
  "language_info": {
   "codemirror_mode": {
    "name": "ipython",
    "version": 3
   },
   "file_extension": ".py",
   "mimetype": "text/x-python",
   "name": "python",
   "nbconvert_exporter": "python",
   "pygments_lexer": "ipython3",
   "version": "3.12.7"
  }
 },
 "nbformat": 4,
 "nbformat_minor": 5
}
